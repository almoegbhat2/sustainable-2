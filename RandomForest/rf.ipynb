{
 "cells": [
  {
   "metadata": {
    "ExecuteTime": {
     "end_time": "2025-03-18T19:15:56.465505Z",
     "start_time": "2025-03-18T19:15:56.460318Z"
    }
   },
   "cell_type": "code",
   "source": [
    "import pickle\n",
    "\n",
    "# Import the DataFrame from the pickle file\n",
    "with open('../Dataset/df_train.pkl', 'rb') as f:\n",
    "    df_train = pickle.load(f)"
   ],
   "id": "a1a1ec9fbf096d59",
   "outputs": [],
   "execution_count": 3
  },
  {
   "cell_type": "code",
   "id": "initial_id",
   "metadata": {
    "collapsed": true,
    "ExecuteTime": {
     "end_time": "2025-03-18T19:16:22.810615Z",
     "start_time": "2025-03-18T19:16:22.806011Z"
    }
   },
   "source": [
    "X = df_train.drop(['Overhype'], axis=1)\n",
    "Y = df_train['Overhype']\n",
    "Y = Y.apply(lambda x: x if x in [0, 1] else 0)"
   ],
   "outputs": [],
   "execution_count": 4
  },
  {
   "metadata": {
    "ExecuteTime": {
     "end_time": "2025-03-18T19:18:24.838388Z",
     "start_time": "2025-03-18T19:18:23.535080Z"
    }
   },
   "cell_type": "code",
   "source": [
    "from sklearn.model_selection import train_test_split\n",
    "from imblearn.over_sampling import SMOTE\n",
    "from sklearn.preprocessing import StandardScaler\n",
    "\n",
    "scaler = StandardScaler()\n",
    "\n",
    "smote = SMOTE(random_state=42)\n",
    "X_train_resampled, y_train_resampled = smote.fit_resample(X, Y)\n",
    "X_scaled = scaler.fit_transform(X_train_resampled)\n",
    "\n",
    "X_train, X_test, y_train, y_test = train_test_split(X_scaled, y_train_resampled, test_size=0.2, random_state=42, stratify=y_train_resampled)"
   ],
   "id": "42df15766e416d04",
   "outputs": [],
   "execution_count": 5
  },
  {
   "metadata": {
    "ExecuteTime": {
     "end_time": "2025-03-18T19:21:40.303286Z",
     "start_time": "2025-03-18T19:21:40.081534Z"
    }
   },
   "cell_type": "code",
   "source": [
    "from sklearn.metrics import accuracy_score, f1_score\n",
    "from sklearn.ensemble import RandomForestClassifier\n",
    "\n",
    "rf = RandomForestClassifier(n_estimators=300, max_depth=12, min_samples_split=5, class_weight=\"balanced_subsample\", random_state=42)\n",
    "\n",
    "rf.fit(X_train, y_train)\n",
    "y_pred = rf.predict(X_test)\n",
    "\n",
    "accuracy = accuracy_score(y_test, y_pred)\n",
    "f1 = f1_score(y_test, y_pred, average=\"weighted\")\n",
    "\n",
    "results = {\"Accuracy\": accuracy, \"F1 Score\": f1}\n",
    "print(results)"
   ],
   "id": "8125a52ed5be2a94",
   "outputs": [
    {
     "name": "stdout",
     "output_type": "stream",
     "text": [
      "{'Accuracy': 0.8835616438356164, 'F1 Score': 0.8826311060670545}\n"
     ]
    }
   ],
   "execution_count": 6
  }
 ],
 "metadata": {
  "kernelspec": {
   "display_name": "Python 3",
   "language": "python",
   "name": "python3"
  },
  "language_info": {
   "codemirror_mode": {
    "name": "ipython",
    "version": 2
   },
   "file_extension": ".py",
   "mimetype": "text/x-python",
   "name": "python",
   "nbconvert_exporter": "python",
   "pygments_lexer": "ipython2",
   "version": "2.7.6"
  }
 },
 "nbformat": 4,
 "nbformat_minor": 5
}
