{
 "cells": [
  {
   "metadata": {},
   "cell_type": "markdown",
   "source": "# Load dataset",
   "id": "ab3dd81bd9920e5e"
  },
  {
   "metadata": {
    "ExecuteTime": {
     "end_time": "2025-03-18T13:05:04.805327Z",
     "start_time": "2025-03-18T13:05:02.474757Z"
    }
   },
   "cell_type": "code",
   "source": [
    "import kagglehub\n",
    "import pandas as pd\n",
    "\n",
    "# Download latest version\n",
    "path = kagglehub.dataset_download(\"dagloxkankwanda/startup-failures\")\n",
    "\n",
    "print(\"Path to dataset files:\", path)"
   ],
   "id": "4d438a5a97ebc861",
   "outputs": [
    {
     "name": "stdout",
     "output_type": "stream",
     "text": [
      "Path to dataset files: /Users/ahmeddriouech/.cache/kagglehub/datasets/dagloxkankwanda/startup-failures/versions/14\n"
     ]
    }
   ],
   "execution_count": 3
  },
  {
   "metadata": {
    "ExecuteTime": {
     "end_time": "2025-03-18T18:37:00.692248Z",
     "start_time": "2025-03-18T18:37:00.680129Z"
    }
   },
   "cell_type": "code",
   "source": [
    "df_finance = pd.read_csv(f'{path}/Startup Failure (Finance and Insurance).csv', on_bad_lines='skip')\n",
    "df_health = pd.read_csv(f'{path}/Startup Failure (Health Care).csv', on_bad_lines='skip')\n",
    "df_production = pd.read_csv(f'{path}/Startup Failure (Manufactures).csv', on_bad_lines='skip')\n",
    "df_commerce = pd.read_csv(f'{path}/Startup Failure (Retail Trade).csv', on_bad_lines='skip')\n",
    "df_media = pd.read_csv(f'{path}/Startup Failures (Information Sector).csv', on_bad_lines='skip')\n",
    "\n",
    "datasets = {\n",
    "    \"Finance And Insurance\": df_finance,\n",
    "    \"HealthCare\": df_health,\n",
    "    \"Manufacturers\": df_production,\n",
    "    \"Retail Trade\": df_commerce,\n",
    "    \"Information Sector\": df_media\n",
    "}\n",
    "\n",
    "columns_list = [set(df.columns) for df in datasets.values()]\n",
    "if all(cols == columns_list[0] for cols in columns_list):\n",
    "    print(\"All datasets have the same columns\")\n",
    "    df = pd.concat(datasets.values(), ignore_index=True)\n",
    "    print(\"Merged dataset shape:\", df.shape)\n",
    "else:\n",
    "    print(\"Datasets do not have the same columns\")"
   ],
   "id": "64495a6659d742fa",
   "outputs": [
    {
     "name": "stdout",
     "output_type": "stream",
     "text": [
      "All datasets have the same columns\n",
      "Merged dataset shape: (383, 20)\n"
     ]
    }
   ],
   "execution_count": 10
  },
  {
   "metadata": {},
   "cell_type": "markdown",
   "source": "# Preprocess Data",
   "id": "29843b02953b0176"
  },
  {
   "metadata": {
    "ExecuteTime": {
     "end_time": "2025-03-18T18:40:56.098031Z",
     "start_time": "2025-03-18T18:40:56.033282Z"
    }
   },
   "cell_type": "code",
   "source": [
    "df_startup = pd.read_csv(f'{path}/Startup Failures.csv')\n",
    "\n",
    "for index, row in df.iterrows():\n",
    "    matching_rows = df_startup[(df_startup['Years of Operation'] == row['Name']) | (df_startup['Years of Operation'] == row['Sector'])]\n",
    "\n",
    "    if not matching_rows.empty:\n",
    "        df.at[index, 'Name'] = matching_rows['Name'].values[0]\n",
    "        df.at[index, 'Sector'] = matching_rows['Sector'].values[0]"
   ],
   "id": "fd9f2041621e114a",
   "outputs": [],
   "execution_count": 11
  },
  {
   "metadata": {
    "ExecuteTime": {
     "end_time": "2025-03-18T18:41:52.174837Z",
     "start_time": "2025-03-18T18:41:52.170502Z"
    }
   },
   "cell_type": "code",
   "source": "print(\"NAN Values in Dataset: \\n\", df.isnull().sum())",
   "id": "3f6e9fdf308fce96",
   "outputs": [
    {
     "name": "stdout",
     "output_type": "stream",
     "text": [
      "NAN Values in Dataset: \n",
      " Name                      0\n",
      "Sector                    0\n",
      "Years of Operation        0\n",
      "What They Did             0\n",
      "How Much They Raised      0\n",
      "Why They Failed           0\n",
      "Takeaway                  0\n",
      "Giants                    0\n",
      "No Budget                 0\n",
      "Competition               0\n",
      "Poor Market Fit           0\n",
      "Acquisition Stagnation    0\n",
      "Platform Dependency       0\n",
      "Monetization Failure      0\n",
      "Niche Limits              0\n",
      "Execution Flaws           0\n",
      "Trend Shifts              0\n",
      "Toxicity/Trust Issues     0\n",
      "Regulatory Pressure       0\n",
      "Overhype                  1\n",
      "dtype: int64\n"
     ]
    }
   ],
   "execution_count": 12
  },
  {
   "metadata": {
    "ExecuteTime": {
     "end_time": "2025-03-18T18:53:15.399158Z",
     "start_time": "2025-03-18T18:53:15.392587Z"
    }
   },
   "cell_type": "code",
   "source": [
    "for col in df.columns:\n",
    "    if df[col].dtype == 'object':\n",
    "        df[col] = df[col].fillna('Unknown')\n",
    "    else:\n",
    "        df[col] = df[col].fillna(df[col].mean())"
   ],
   "id": "ce73f88eac30bc00",
   "outputs": [],
   "execution_count": 19
  },
  {
   "metadata": {
    "ExecuteTime": {
     "end_time": "2025-03-18T18:55:39.153321Z",
     "start_time": "2025-03-18T18:55:39.149926Z"
    }
   },
   "cell_type": "code",
   "source": "df.drop(['Name'], axis=1, inplace=True)",
   "id": "3d97027b945e93b2",
   "outputs": [],
   "execution_count": 25
  },
  {
   "metadata": {
    "ExecuteTime": {
     "end_time": "2025-03-18T19:11:46.436595Z",
     "start_time": "2025-03-18T19:11:46.428812Z"
    }
   },
   "cell_type": "code",
   "source": [
    "df_train = df.copy()\n",
    "\n",
    "categorical_features = ['Sector', 'Years of Operation', 'What They Did', 'How Much They Raised', 'Why They Failed', 'Takeaway']\n",
    "\n",
    "df_train = pd.get_dummies(df_train, columns=categorical_features)"
   ],
   "id": "c25357245706e7db",
   "outputs": [],
   "execution_count": 30
  },
  {
   "metadata": {},
   "cell_type": "code",
   "outputs": [],
   "execution_count": null,
   "source": "df_train.drop(['Execution Flaws'], axis=1, inplace=True)",
   "id": "fd27535a432b1a6b"
  },
  {
   "metadata": {
    "ExecuteTime": {
     "end_time": "2025-03-18T19:14:01.535234Z",
     "start_time": "2025-03-18T19:14:01.529901Z"
    }
   },
   "cell_type": "code",
   "source": [
    "import pickle\n",
    "\n",
    "with open('df_train.pkl', 'wb') as f:\n",
    "    pickle.dump(df_train, f)"
   ],
   "id": "942ca2105874650b",
   "outputs": [],
   "execution_count": 31
  },
  {
   "metadata": {},
   "cell_type": "code",
   "outputs": [],
   "execution_count": null,
   "source": [
    "X = df_train.drop(['Overhype'], axis=1)\n",
    "Y = df['Overhype']\n",
    "Y = Y.apply(lambda x: x if x in [0, 1] else 0)"
   ],
   "id": "8f971423b627569c"
  }
 ],
 "metadata": {
  "kernelspec": {
   "name": "python3",
   "language": "python",
   "display_name": "Python 3 (ipykernel)"
  }
 },
 "nbformat": 5,
 "nbformat_minor": 9
}
